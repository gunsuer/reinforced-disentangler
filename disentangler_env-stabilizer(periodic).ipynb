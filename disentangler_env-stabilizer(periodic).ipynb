{
 "cells": [
  {
   "cell_type": "code",
   "execution_count": 2,
   "metadata": {},
   "outputs": [],
   "source": [
    "from IPython.core.interactiveshell import InteractiveShell\n",
    "InteractiveShell.ast_node_interactivity = \"all\""
   ]
  },
  {
   "cell_type": "code",
   "execution_count": 3,
   "metadata": {},
   "outputs": [],
   "source": [
    "import sys\n",
    "sys.path.insert(0, '..')\n",
    "import numpy as np\n",
    "import matplotlib.pyplot as plt\n",
    "import pyclifford as pc\n",
    "import torch\n",
    "\n",
    "from numba import njit\n",
    "import seaborn as sns\n",
    "sns.set_theme()\n",
    "\n",
    "import statistics"
   ]
  },
  {
   "cell_type": "code",
   "execution_count": 4,
   "metadata": {},
   "outputs": [],
   "source": [
    "def one_layer_brick_wall(circ,even=True):\n",
    "    for ii in range(int(circ.N//2)):\n",
    "        if even:\n",
    "            circ.gate(2*ii,2*ii+1)\n",
    "        else:\n",
    "            circ.gate((2*ii+1),(2*ii+2)%circ.N)\n",
    "    return circ"
   ]
  },
  {
   "cell_type": "code",
   "execution_count": 5,
   "metadata": {},
   "outputs": [],
   "source": [
    "def theta(N_QUBITS,DEPTH):\n",
    "    \"\"\"\n",
    "\n",
    "    Arguments:\n",
    "        number of qubits, depth\n",
    "    \n",
    "    Returns:\n",
    "        Random 2-qubit Clifford gates for a single layer.\n",
    "        \n",
    "    \"\"\"\n",
    "    \n",
    "    \n",
    "    theta= np.random.randint(2, size=(DEPTH,N_QUBITS))\n",
    "    \n",
    "    return theta"
   ]
  },
  {
   "cell_type": "code",
   "execution_count": 6,
   "metadata": {},
   "outputs": [],
   "source": [
    "def one_layer_measurement(circ,the,layer):\n",
    "    \"\"\"\n",
    "    Input:\n",
    "        \n",
    "    \"\"\"\n",
    "     \n",
    "    positions=[]\n",
    "    for i in range(0,circ.N):\n",
    "        if the[layer,i]==int(1):\n",
    "            positions.append(int(i))\n",
    "        else:\n",
    "            continue\n",
    "        \n",
    "    if positions!=[]:\n",
    "        circ.measure(*positions)\n",
    "\n",
    "        \n",
    "        \n",
    "    return circ"
   ]
  },
  {
   "cell_type": "code",
   "execution_count": 7,
   "metadata": {},
   "outputs": [],
   "source": [
    "def create_circuit(N_QUBITS,DEPTH,the):\n",
    "    circ = pc.circuit.Circuit(N_QUBITS)\n",
    "    for i in range(DEPTH):\n",
    "        circ = one_layer_brick_wall(circ,even=True)\n",
    "        #circ = one_layer_measurement(circ,the,int(2*DEPTH-1-2*i))\n",
    "        circ = one_layer_brick_wall(circ,even=False)\n",
    "        #circ = one_layer_measurement(circ,the,int(2*DEPTH-1-2*i-1))\n",
    "    return circ"
   ]
  },
  {
   "cell_type": "code",
   "execution_count": 8,
   "metadata": {},
   "outputs": [],
   "source": [
    "def averaged_EE(state_final):\n",
    "    EE_positions=[]\n",
    "    for i in range(0,N_QUBITS):\n",
    "        EE_positions.append([int(i),int(i+1)%N_QUBITS])\n",
    "        \n",
    "    EE_list=[]\n",
    "    for i in range(0,len(EE_positions)):\n",
    "        EE_list.append(state_final.entropy(EE_positions[i]))\n",
    "    \n",
    "    averaged_EE=statistics.mean(EE_list)\n",
    "        \n",
    "    return averaged_EE, EE_positions, EE_list"
   ]
  },
  {
   "cell_type": "code",
   "execution_count": 9,
   "metadata": {
    "scrolled": true
   },
   "outputs": [
    {
     "data": {
      "text/plain": [
       "array([[1, 1, 1, 0, 1, 0, 1, 0, 1, 0],\n",
       "       [1, 0, 1, 1, 0, 1, 1, 1, 1, 0],\n",
       "       [1, 0, 0, 1, 1, 1, 0, 0, 1, 1],\n",
       "       [1, 1, 0, 1, 0, 1, 0, 0, 0, 1],\n",
       "       [0, 0, 0, 1, 1, 1, 1, 1, 0, 1],\n",
       "       [1, 1, 0, 1, 0, 1, 1, 0, 1, 0],\n",
       "       [0, 1, 1, 1, 0, 1, 0, 1, 1, 0],\n",
       "       [0, 1, 0, 1, 0, 0, 0, 1, 1, 0],\n",
       "       [0, 0, 0, 0, 1, 0, 1, 0, 0, 1],\n",
       "       [1, 0, 1, 1, 1, 0, 0, 0, 0, 1]])"
      ]
     },
     "execution_count": 9,
     "metadata": {},
     "output_type": "execute_result"
    },
    {
     "data": {
      "text/plain": [
       "CliffordCircuit(\n",
       "  |[1,2][3,4][5,6][7,8][9,0]|\n",
       "  |[0,1][2,3][4,5][6,7][8,9]|\n",
       "  |[1,2][3,4][5,6][7,8][9,0]|\n",
       "  |[0,1][2,3][4,5][6,7][8,9]|\n",
       "  |[1,2][3,4][5,6][7,8][9,0]|\n",
       "  |[0,1][2,3][4,5][6,7][8,9]|\n",
       "  |[1,2][3,4][5,6][7,8][9,0]|\n",
       "  |[0,1][2,3][4,5][6,7][8,9]|\n",
       "  |[1,2][3,4][5,6][7,8][9,0]|\n",
       "  |[0,1][2,3][4,5][6,7][8,9]|)\n",
       " Unitary:True"
      ]
     },
     "execution_count": 9,
     "metadata": {},
     "output_type": "execute_result"
    }
   ],
   "source": [
    "N_QUBITS=10\n",
    "DEPTH=5\n",
    "the = theta(N_QUBITS,2*DEPTH)\n",
    "the\n",
    "circ=create_circuit(N_QUBITS,DEPTH,the)\n",
    "circ"
   ]
  },
  {
   "cell_type": "code",
   "execution_count": 19,
   "metadata": {},
   "outputs": [
    {
     "data": {
      "text/plain": [
       "StabilizerState(\n",
       "   +ZIIIIIIIII\n",
       "   +IZIIIIIIII\n",
       "   +IIZIIIIIII\n",
       "   +IIIZIIIIII\n",
       "   +IIIIZIIIII\n",
       "   +IIIIIZIIII\n",
       "   +IIIIIIZIII\n",
       "   +IIIIIIIZII\n",
       "   +IIIIIIIIZI\n",
       "   +IIIIIIIIIZ)"
      ]
     },
     "execution_count": 19,
     "metadata": {},
     "output_type": "execute_result"
    }
   ],
   "source": [
    "stateinitial = stateinitial = pc.stabilizer.zero_state(N_QUBITS)  #Initial stabilizer state\n",
    "stateinitial"
   ]
  },
  {
   "cell_type": "code",
   "execution_count": 20,
   "metadata": {
    "scrolled": true
   },
   "outputs": [
    {
     "data": {
      "text/plain": [
       "StabilizerState(\n",
       "   +IXYZYYXZIZ\n",
       "   -YXZXZYXIXY\n",
       "   -ZZYIZIZYXI\n",
       "   +XXIXYYZZXZ\n",
       "   -IXZXIYIIII\n",
       "   -XIIYIXYYII\n",
       "   -YZXYZZZXZY\n",
       "   -IXYYXIIIIZ\n",
       "   +IYYIIIXZYX\n",
       "   -IXIIIIYYIZ)"
      ]
     },
     "execution_count": 20,
     "metadata": {},
     "output_type": "execute_result"
    }
   ],
   "source": [
    "statefinal=circ.forward(stateinitial) #Final stabilizer state after the circuit applied\n",
    "statefinal"
   ]
  },
  {
   "cell_type": "code",
   "execution_count": 13,
   "metadata": {},
   "outputs": [],
   "source": [
    "#state_final.entropy([0,1]) #Calculate the entanglement entropy of the final stabilizer states"
   ]
  },
  {
   "cell_type": "code",
   "execution_count": 21,
   "metadata": {},
   "outputs": [
    {
     "data": {
      "text/plain": [
       "2"
      ]
     },
     "execution_count": 21,
     "metadata": {},
     "output_type": "execute_result"
    }
   ],
   "source": [
    "a,b,c= averaged_EE(state_final)\n",
    "a"
   ]
  },
  {
   "cell_type": "code",
   "execution_count": null,
   "metadata": {},
   "outputs": [],
   "source": []
  }
 ],
 "metadata": {
  "kernelspec": {
   "display_name": "Python 3 (ipykernel)",
   "language": "python",
   "name": "python3"
  },
  "language_info": {
   "codemirror_mode": {
    "name": "ipython",
    "version": 3
   },
   "file_extension": ".py",
   "mimetype": "text/x-python",
   "name": "python",
   "nbconvert_exporter": "python",
   "pygments_lexer": "ipython3",
   "version": "3.11.5"
  }
 },
 "nbformat": 4,
 "nbformat_minor": 2
}
