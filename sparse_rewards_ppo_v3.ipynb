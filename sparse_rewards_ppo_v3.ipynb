{
 "cells": [
  {
   "cell_type": "code",
   "execution_count": 1,
   "metadata": {},
   "outputs": [],
   "source": [
    "import numpy as np\n",
    "import matplotlib.pyplot as plt\n",
    "import pyclifford as pc\n",
    "import gymnasium as gym\n",
    "import stable_baselines3\n",
    "from stable_baselines3 import PPO\n",
    "from stable_baselines3 import DQN\n",
    "from stable_baselines3.common.env_checker import check_env\n",
    "from stable_baselines3.common.vec_env import DummyVecEnv\n",
    "from stable_baselines3.common.monitor import Monitor\n",
    "from stable_baselines3.common.evaluation import evaluate_policy"
   ]
  },
  {
   "cell_type": "code",
   "execution_count": 2,
   "metadata": {},
   "outputs": [],
   "source": [
    "def one_layer_brick_wall(circ,even=True):\n",
    "    for ii in range(int(circ.N//2)):\n",
    "        if even:\n",
    "            circ.gate(2*ii,2*ii+1)\n",
    "        else:\n",
    "            circ.gate((2*ii+1),(2*ii+2)%circ.N)\n",
    "    return circ"
   ]
  },
  {
   "cell_type": "code",
   "execution_count": 3,
   "metadata": {},
   "outputs": [],
   "source": [
    "#construction of perfect entangler\n",
    "#parameterize the U\n",
    "#test if the function D==0. The U is the perfect entangler.\n",
    "#Once the perfect entagnler is constrcuted, use it as two-qubit gates everywhere in the ciruicts\n",
    "#fix the last section"
   ]
  },
  {
   "cell_type": "code",
   "execution_count": 4,
   "metadata": {},
   "outputs": [],
   "source": [
    "#def one_layer_brick_wall_PE(circ,even=True):#perfect entangler\n",
    "#    for ii in range(int(circ.N//2)):\n",
    "#        if even:\n",
    "#            circ.\"gate\"(2*ii,2*ii+1)\n",
    "#        else:\n",
    "#            circ.\"gate\"((2*ii+1),(2*ii+2)%circ.N)\n",
    "#    return circ"
   ]
  },
  {
   "cell_type": "code",
   "execution_count": 5,
   "metadata": {},
   "outputs": [],
   "source": [
    "def one_layer_measurement(circ,the,layer):\n",
    "    \"\"\"\n",
    "    Input:\n",
    "        \n",
    "    \"\"\"\n",
    "     \n",
    "    positions=[]\n",
    "    for i in range(0,circ.N):\n",
    "        if the[layer,i]==int(1):\n",
    "            positions.append(int(i))\n",
    "        else:\n",
    "            continue\n",
    "        \n",
    "    if positions!=[]:\n",
    "        circ.measure(*positions)\n",
    "\n",
    "        \n",
    "        \n",
    "    return circ"
   ]
  },
  {
   "cell_type": "code",
   "execution_count": 6,
   "metadata": {},
   "outputs": [],
   "source": [
    "def create_circuit(N_QUBITS,DEPTH,theta):\n",
    "    circ = pc.circuit.Circuit(N_QUBITS)\n",
    "    for i in range(int(DEPTH/2)):\n",
    "        circ = one_layer_brick_wall(circ,even=True)\n",
    "        circ = one_layer_measurement(circ,theta,int(DEPTH-1-2*i))\n",
    "        circ = one_layer_brick_wall(circ,even=False)\n",
    "        circ = one_layer_measurement(circ,theta,int(DEPTH-1-2*i-1))\n",
    "    return circ"
   ]
  },
  {
   "cell_type": "code",
   "execution_count": null,
   "metadata": {},
   "outputs": [],
   "source": [
    "def brickwall(N_QUBIT,DEPTH):\n",
    "    brickwall = []\n",
    "    for _ in range(DEPTH):\n",
    "        brickwall.append(one_layer_brickwall(circ))"
   ]
  },
  {
   "cell_type": "code",
   "execution_count": 1,
   "metadata": {},
   "outputs": [],
   "source": [
    "def create_circuit_fixed(brickwall, theta):\n",
    "    circ = pc.circuit.Circuit(N_QUBITS)\n",
    "    for layer in brickwall:\n",
    "        circ = layer\n",
    "        circ = one_layer_measurement(circ,even=True)\n",
    "    \n",
    "    return circ"
   ]
  },
  {
   "cell_type": "code",
   "execution_count": 7,
   "metadata": {},
   "outputs": [],
   "source": [
    "def averaged_EE(state_final):\n",
    "    EE_positions=[]\n",
    "    for i in range(0,state_final.N):\n",
    "        EE_positions.append([int(i),int(i+1)%state_final.N])\n",
    "        \n",
    "    EE_list=[]\n",
    "    for i in range(0,len(EE_positions)):\n",
    "        EE_list.append(state_final.entropy(EE_positions[i]))\n",
    "    \n",
    "    averaged_EE=np.mean(EE_list)\n",
    "        \n",
    "    return averaged_EE #, EE_positions, EE_list"
   ]
  },
  {
   "cell_type": "code",
   "execution_count": 21,
   "metadata": {},
   "outputs": [],
   "source": [
    "class Disentangler(gym.Env):\n",
    "    \"\"\"\n",
    "    Reinforcement learning environment for the disentangler.\n",
    "    \"\"\"\n",
    "    \n",
    "    def __init__(self, n_qubits, depth, penalty_weights, rc, rs):\n",
    "        super(Disentangler, self).__init__()\n",
    "        \n",
    "        self.N_QUBITS = n_qubits\n",
    "        self.DEPTH = depth\n",
    "        self.stored_entropy = [0,0]\n",
    "        self.stored_theta = [0,0]\n",
    "        self.penalty_weights = penalty_weights\n",
    "        self.rc, self.rs = rc, rs\n",
    "        \n",
    "        self.action_space = gym.spaces.Discrete(self.N_QUBITS * self.DEPTH)\n",
    "        self.observation_space = gym.spaces.Box(low=0, high=1, shape=(self.DEPTH, self.N_QUBITS), dtype=np.int8)\n",
    "        self.theta = np.zeros((self.DEPTH, self.N_QUBITS), dtype=np.int8)\n",
    "        self.circ = create_circuit(self.N_QUBITS,self.DEPTH,self.theta)\n",
    "\n",
    "    def step(self, action):\n",
    "        # Initialize reward and done\n",
    "        reward = 0\n",
    "        done = False\n",
    "        truncate = False\n",
    "\n",
    "        # Apply the action\n",
    "        theta_prev = self.theta\n",
    "        h = np.zeros(self.N_QUBITS * self.DEPTH, dtype=np.int8)\n",
    "        h[action] = 1\n",
    "        h = h.reshape((self.DEPTH, self.N_QUBITS))\n",
    "        self.theta = (self.theta + h) % 2\n",
    "        theta_new = self.theta\n",
    "\n",
    "        # Calculate entropy (assumes circuit is a predefined function)\n",
    "        circ = create_circuit(self.N_QUBITS,self.DEPTH,self.theta)\n",
    "\n",
    "        state_initial = pc.stabilizer.zero_state(self.N_QUBITS)\n",
    "        state_final = circ.forward(state_initial)\n",
    "\n",
    "        entropy = averaged_EE(state_final)\n",
    "        m = [sum(self.theta[i]) for i in range(self.DEPTH)]\n",
    "        self.stored_entropy = [self.stored_entropy[1], entropy]\n",
    "        self.stored_theta = [self.stored_theta[1], np.dot(self.penalty_weights,m)]\n",
    "\n",
    "        # Check if the state is trivial\n",
    "        # non_trivial = any(self.theta[:,-1][i] == 0 and self.theta[:,-1][(i + 1) % self.N_QUBITS] == 0 for i in range(self.N_QUBITS))\n",
    "\n",
    "        # Determine reward and done conditions\n",
    "        \n",
    "        #if self.stored_theta[0]==0 or self.stored_entropy[0]==0:\n",
    "        #    reward = rc*(-self.stored_theta[1]) + rs*(1-self.stored_entropy[1]/self.stored_entropy[0])\n",
    "        #else: \n",
    "        #    reward = rc*(1-self.stored_theta[1]/self.stored_theta[0]) + rs*(1-self.stored_entropy[1]/self.stored_entropy[0])\n",
    "        \n",
    "        \n",
    "     \n",
    "            \n",
    "        if m[0] > self.N_QUBITS/2:\n",
    "            reward += -100\n",
    "            #done = True\n",
    "        \n",
    "        if entropy ==0:\n",
    "            reward += 100\n",
    "            done = True\n",
    "        \n",
    "        \n",
    "        \n",
    "        if self.stored_theta[0]*self.stored_entropy[0]==0:\n",
    "            reward =0\n",
    "        else:\n",
    "            reward += ((rc*(self.stored_theta[0]-self.stored_theta[1])*self.stored_entropy[0] \n",
    "                      +rs*(self.stored_entropy[0]-self.stored_entropy[1])*self.stored_theta[0])\n",
    "                      /self.stored_theta[0]*self.stored_entropy[0])\n",
    "                      \n",
    "\n",
    "        #if ((self.stored_theta[0]-self.stored_theta[1])*self.stored_entropy[0] \n",
    "         #              + (self.stored_entropy[0]-self.stored_entropy[1])*self.stored_theta[0]) ==0:\n",
    "         #   reward = 0\n",
    "        #else:\n",
    "         #   reward =((rc*(self.stored_theta[0]-self.stored_theta[1])*self.stored_entropy[0] \n",
    "          #            + rs*(self.stored_entropy[0]-self.stored_entropy[1])*self.stored_theta[0])\n",
    "           #          /((self.stored_theta[0]-self.stored_theta[1])*self.stored_entropy[0] \n",
    "            #           + (self.stored_entropy[0]-self.stored_entropy[1])*self.stored_theta[0]))\n",
    "            \n",
    "            \n",
    "        #if entropy < 1e-17:\n",
    "           \n",
    "            \n",
    "        \n",
    "        \n",
    "        # Return the state, reward, done flag, truncate flag, and info\n",
    "        info = {}\n",
    "        return self.theta, reward, done, truncate, info\n",
    "    \n",
    "    def reset(self, seed=None):\n",
    "        # Seed the random number generator if a seed is provided\n",
    "        if seed is not None:\n",
    "            np.random.seed(seed)\n",
    "        \n",
    "        # Reset the state to an all-zero matrix\n",
    "        self.theta = np.zeros((self.DEPTH, self.N_QUBITS), dtype=np.int8)\n",
    "\n",
    "        info = {}\n",
    "        return self.theta, info\n",
    "    \n",
    "    def render(self):\n",
    "        print()\n",
    "\n",
    "    def close(self):\n",
    "        # Optional: Implement any cleanup\n",
    "        pass\n"
   ]
  },
  {
   "cell_type": "code",
   "execution_count": 22,
   "metadata": {},
   "outputs": [],
   "source": [
    "# ppo parameters\n",
    "ts = 1e6\n",
    "lr = 0.001\n",
    "ec = 0.01\n",
    "\n",
    "# circuit parameters\n",
    "N_QUBITS=10\n",
    "DEPTH=10\n",
    "penalty_weights = [(DEPTH-i)/DEPTH for i in range(DEPTH)]\n",
    "rc, rs = 0.5, 0.5\n",
    "\n",
    "env = Disentangler(N_QUBITS,DEPTH,penalty_weights,rc,rs)\n",
    "\n",
    "env.reset()\n",
    "model = PPO('MlpPolicy', env, verbose=0, tensorboard_log=\"./tensorboard_files\", learning_rate=lr, ent_coef=ec)"
   ]
  },
  {
   "cell_type": "code",
   "execution_count": 23,
   "metadata": {},
   "outputs": [],
   "source": [
    "model.learn(total_timesteps=ts, tb_log_name=\"{N_QUBITS}x{DEPTH}_tb_{ts}_{lr}_{ec}\".format(N_QUBITS=N_QUBITS, DEPTH=DEPTH, ts=ts, lr=lr, ec=ec))\n",
    "model_path = \"./models/{N_QUBITS}x{DEPTH}_PPO_{ts}_{lr}_{ec}\".format(N_QUBITS=N_QUBITS, DEPTH=DEPTH, ts=ts, lr=lr, ec=ec)\n",
    "model.save(model_path)"
   ]
  },
  {
   "cell_type": "code",
   "execution_count": 24,
   "metadata": {},
   "outputs": [],
   "source": [
    "model = PPO.load(model_path)\n",
    "\n",
    "episodes = 25\n",
    "optimal_measurements = []\n",
    "for _ in range(episodes):\n",
    "    obs, _ = env.reset()\n",
    "    done = False\n",
    "    \n",
    "    while not done:\n",
    "        action, _states = model.predict(obs)\n",
    "        obs, rewards, done, truncate, info = env.step(action)\n",
    "\n",
    "    optimal_measurements.append(obs)"
   ]
  },
  {
   "cell_type": "code",
   "execution_count": 25,
   "metadata": {},
   "outputs": [
    {
     "data": {
      "text/plain": [
       "[array([[1, 1, 0, 1, 0, 0, 0, 1, 0, 1],\n",
       "        [0, 1, 1, 0, 0, 1, 1, 1, 1, 0],\n",
       "        [0, 0, 0, 0, 0, 0, 0, 0, 0, 0],\n",
       "        [0, 0, 0, 0, 0, 0, 0, 0, 0, 0],\n",
       "        [0, 0, 0, 0, 0, 0, 0, 0, 0, 0],\n",
       "        [0, 0, 0, 0, 1, 0, 0, 0, 0, 0],\n",
       "        [0, 0, 0, 0, 0, 0, 0, 0, 0, 0],\n",
       "        [0, 0, 0, 0, 0, 0, 0, 0, 0, 0],\n",
       "        [0, 0, 0, 0, 0, 0, 0, 0, 0, 0],\n",
       "        [0, 0, 0, 0, 0, 0, 0, 0, 0, 0]], dtype=int8),\n",
       " array([[1, 1, 0, 1, 0, 0, 0, 0, 1, 1],\n",
       "        [0, 1, 1, 0, 1, 1, 1, 1, 0, 0],\n",
       "        [0, 0, 0, 0, 0, 0, 0, 0, 0, 0],\n",
       "        [0, 0, 0, 0, 0, 0, 0, 0, 0, 0],\n",
       "        [0, 0, 0, 0, 0, 0, 0, 0, 0, 0],\n",
       "        [0, 0, 0, 0, 1, 0, 1, 0, 1, 0],\n",
       "        [0, 0, 0, 0, 0, 0, 0, 0, 0, 0],\n",
       "        [0, 0, 0, 0, 0, 0, 0, 0, 0, 0],\n",
       "        [0, 0, 0, 0, 0, 0, 0, 0, 0, 0],\n",
       "        [0, 0, 0, 0, 0, 0, 0, 0, 0, 0]], dtype=int8),\n",
       " array([[1, 1, 0, 1, 0, 0, 0, 0, 1, 1],\n",
       "        [0, 1, 1, 0, 0, 1, 1, 0, 0, 0],\n",
       "        [0, 0, 0, 0, 0, 0, 0, 0, 0, 0],\n",
       "        [0, 0, 0, 0, 0, 0, 0, 0, 0, 0],\n",
       "        [0, 0, 0, 0, 0, 0, 0, 0, 0, 0],\n",
       "        [0, 0, 0, 0, 0, 0, 0, 0, 0, 0],\n",
       "        [0, 0, 0, 0, 0, 0, 0, 0, 0, 0],\n",
       "        [0, 0, 0, 0, 0, 0, 0, 0, 0, 0],\n",
       "        [0, 0, 0, 0, 0, 0, 0, 0, 0, 0],\n",
       "        [0, 0, 0, 0, 0, 0, 0, 0, 0, 0]], dtype=int8),\n",
       " array([[1, 1, 0, 1, 0, 0, 0, 1, 0, 1],\n",
       "        [0, 1, 1, 0, 0, 1, 1, 0, 0, 0],\n",
       "        [0, 0, 0, 0, 0, 0, 0, 0, 0, 0],\n",
       "        [0, 0, 0, 0, 0, 0, 0, 0, 0, 0],\n",
       "        [0, 0, 0, 0, 0, 0, 0, 0, 0, 0],\n",
       "        [0, 0, 0, 0, 0, 0, 0, 0, 0, 0],\n",
       "        [0, 0, 0, 0, 0, 0, 0, 0, 0, 0],\n",
       "        [0, 1, 0, 0, 0, 0, 0, 0, 0, 0],\n",
       "        [0, 0, 0, 0, 0, 0, 0, 0, 0, 0],\n",
       "        [0, 0, 0, 0, 0, 0, 0, 0, 0, 0]], dtype=int8),\n",
       " array([[1, 1, 0, 1, 0, 0, 0, 0, 1, 1],\n",
       "        [0, 1, 1, 0, 0, 1, 1, 0, 0, 0],\n",
       "        [0, 0, 0, 0, 0, 0, 0, 0, 0, 0],\n",
       "        [0, 0, 0, 0, 0, 0, 0, 0, 0, 0],\n",
       "        [0, 0, 0, 0, 0, 0, 0, 0, 0, 0],\n",
       "        [0, 0, 0, 0, 0, 0, 0, 0, 0, 0],\n",
       "        [0, 0, 0, 0, 0, 0, 0, 0, 0, 0],\n",
       "        [0, 0, 0, 0, 0, 0, 0, 0, 0, 0],\n",
       "        [0, 0, 0, 0, 0, 0, 0, 0, 0, 0],\n",
       "        [0, 0, 0, 0, 0, 0, 0, 0, 0, 0]], dtype=int8),\n",
       " array([[1, 1, 0, 1, 0, 0, 0, 0, 1, 1],\n",
       "        [0, 1, 1, 0, 0, 1, 1, 0, 0, 0],\n",
       "        [0, 0, 0, 0, 0, 0, 0, 0, 0, 0],\n",
       "        [0, 0, 0, 0, 0, 0, 0, 0, 0, 0],\n",
       "        [0, 0, 0, 0, 0, 0, 0, 0, 0, 0],\n",
       "        [0, 0, 0, 0, 0, 0, 0, 0, 0, 0],\n",
       "        [0, 0, 0, 0, 0, 0, 0, 0, 0, 0],\n",
       "        [0, 0, 0, 0, 0, 0, 0, 0, 0, 0],\n",
       "        [0, 0, 0, 0, 0, 0, 0, 0, 0, 0],\n",
       "        [0, 0, 0, 0, 0, 0, 0, 0, 0, 0]], dtype=int8),\n",
       " array([[1, 0, 0, 1, 0, 0, 0, 0, 0, 1],\n",
       "        [0, 1, 1, 0, 0, 1, 1, 0, 0, 0],\n",
       "        [0, 0, 0, 0, 0, 0, 0, 0, 0, 0],\n",
       "        [0, 0, 0, 0, 0, 0, 0, 0, 0, 0],\n",
       "        [0, 0, 0, 0, 0, 0, 0, 0, 0, 0],\n",
       "        [0, 0, 0, 0, 0, 0, 0, 0, 0, 0],\n",
       "        [0, 0, 0, 0, 0, 0, 0, 0, 0, 0],\n",
       "        [0, 0, 0, 0, 0, 0, 0, 0, 0, 0],\n",
       "        [0, 0, 0, 0, 0, 0, 0, 0, 0, 0],\n",
       "        [0, 0, 0, 0, 0, 0, 0, 0, 0, 0]], dtype=int8),\n",
       " array([[1, 1, 0, 1, 0, 0, 0, 0, 1, 1],\n",
       "        [0, 1, 1, 0, 0, 1, 1, 0, 0, 0],\n",
       "        [0, 0, 0, 0, 0, 0, 0, 0, 0, 0],\n",
       "        [0, 0, 0, 0, 0, 0, 0, 0, 0, 0],\n",
       "        [0, 0, 0, 0, 0, 0, 0, 0, 0, 0],\n",
       "        [0, 0, 0, 0, 0, 0, 0, 0, 0, 0],\n",
       "        [0, 0, 0, 0, 0, 0, 0, 0, 0, 0],\n",
       "        [0, 0, 0, 0, 0, 0, 0, 0, 0, 0],\n",
       "        [0, 0, 0, 0, 0, 0, 0, 0, 0, 0],\n",
       "        [0, 0, 0, 0, 0, 0, 0, 0, 0, 0]], dtype=int8),\n",
       " array([[1, 1, 0, 1, 0, 0, 0, 0, 1, 1],\n",
       "        [0, 1, 1, 1, 1, 1, 1, 0, 0, 0],\n",
       "        [0, 0, 0, 0, 0, 0, 0, 0, 0, 0],\n",
       "        [0, 0, 0, 0, 0, 0, 0, 0, 0, 0],\n",
       "        [0, 0, 0, 0, 0, 0, 0, 0, 0, 0],\n",
       "        [0, 0, 0, 0, 0, 0, 0, 0, 0, 0],\n",
       "        [0, 0, 0, 0, 0, 0, 0, 0, 0, 0],\n",
       "        [0, 0, 0, 0, 0, 0, 0, 0, 0, 0],\n",
       "        [0, 0, 0, 0, 0, 0, 0, 0, 0, 0],\n",
       "        [0, 0, 0, 0, 0, 0, 0, 0, 0, 0]], dtype=int8),\n",
       " array([[1, 1, 0, 1, 0, 0, 0, 1, 0, 1],\n",
       "        [0, 1, 1, 0, 0, 1, 1, 1, 0, 0],\n",
       "        [0, 0, 0, 0, 0, 0, 0, 0, 0, 0],\n",
       "        [0, 0, 0, 0, 0, 0, 0, 0, 0, 0],\n",
       "        [0, 0, 0, 0, 0, 0, 0, 0, 0, 0],\n",
       "        [0, 0, 0, 0, 0, 0, 0, 0, 0, 0],\n",
       "        [0, 0, 0, 0, 0, 0, 0, 0, 0, 0],\n",
       "        [0, 0, 0, 0, 0, 0, 0, 0, 0, 0],\n",
       "        [0, 0, 0, 0, 0, 0, 0, 0, 0, 0],\n",
       "        [0, 0, 0, 0, 0, 0, 0, 0, 0, 0]], dtype=int8),\n",
       " array([[1, 1, 0, 1, 0, 0, 0, 0, 1, 1],\n",
       "        [0, 1, 1, 0, 1, 1, 1, 0, 0, 0],\n",
       "        [0, 0, 0, 0, 0, 0, 0, 0, 0, 0],\n",
       "        [0, 0, 0, 0, 0, 0, 0, 0, 0, 0],\n",
       "        [0, 0, 0, 0, 0, 0, 0, 0, 0, 0],\n",
       "        [0, 0, 0, 0, 0, 0, 0, 0, 0, 0],\n",
       "        [0, 0, 0, 0, 0, 0, 0, 0, 0, 0],\n",
       "        [0, 0, 0, 0, 0, 0, 0, 0, 0, 0],\n",
       "        [0, 0, 0, 0, 0, 0, 0, 0, 0, 0],\n",
       "        [0, 0, 0, 0, 0, 0, 0, 0, 0, 0]], dtype=int8),\n",
       " array([[1, 1, 0, 1, 0, 0, 0, 0, 1, 1],\n",
       "        [0, 1, 1, 0, 0, 1, 1, 0, 0, 0],\n",
       "        [0, 0, 0, 0, 0, 0, 0, 0, 0, 0],\n",
       "        [0, 0, 0, 0, 0, 0, 0, 0, 0, 0],\n",
       "        [0, 0, 0, 0, 0, 0, 0, 0, 0, 0],\n",
       "        [0, 0, 0, 0, 0, 0, 0, 0, 0, 0],\n",
       "        [0, 0, 0, 0, 0, 0, 0, 0, 0, 0],\n",
       "        [0, 0, 0, 0, 0, 0, 0, 0, 0, 0],\n",
       "        [0, 0, 0, 0, 0, 0, 0, 0, 0, 0],\n",
       "        [0, 0, 0, 0, 0, 0, 0, 0, 0, 0]], dtype=int8),\n",
       " array([[1, 1, 0, 1, 0, 0, 0, 0, 1, 1],\n",
       "        [0, 1, 1, 0, 0, 1, 1, 0, 0, 0],\n",
       "        [0, 0, 0, 0, 0, 0, 0, 0, 0, 0],\n",
       "        [0, 0, 0, 0, 0, 0, 0, 0, 0, 0],\n",
       "        [0, 0, 0, 0, 0, 0, 0, 0, 0, 0],\n",
       "        [0, 0, 0, 0, 0, 0, 0, 0, 0, 0],\n",
       "        [0, 0, 0, 0, 0, 0, 0, 0, 0, 0],\n",
       "        [0, 0, 0, 0, 0, 0, 0, 0, 0, 0],\n",
       "        [0, 0, 0, 0, 0, 0, 0, 0, 0, 0],\n",
       "        [0, 0, 0, 0, 0, 0, 0, 0, 0, 0]], dtype=int8),\n",
       " array([[1, 1, 0, 1, 0, 0, 0, 0, 1, 1],\n",
       "        [0, 1, 1, 0, 0, 1, 1, 0, 0, 0],\n",
       "        [0, 0, 0, 0, 0, 0, 0, 0, 0, 0],\n",
       "        [0, 0, 0, 0, 0, 0, 0, 0, 0, 0],\n",
       "        [0, 0, 0, 0, 0, 0, 0, 0, 0, 0],\n",
       "        [0, 0, 0, 0, 0, 0, 0, 0, 0, 0],\n",
       "        [0, 0, 0, 0, 0, 0, 0, 0, 0, 0],\n",
       "        [0, 0, 0, 0, 0, 0, 0, 0, 0, 0],\n",
       "        [0, 0, 0, 0, 0, 0, 0, 0, 0, 0],\n",
       "        [0, 0, 0, 0, 0, 0, 0, 0, 0, 0]], dtype=int8),\n",
       " array([[1, 1, 0, 1, 0, 0, 0, 0, 1, 1],\n",
       "        [0, 1, 1, 0, 1, 1, 1, 0, 0, 0],\n",
       "        [0, 0, 0, 0, 0, 0, 0, 0, 0, 0],\n",
       "        [0, 0, 0, 0, 0, 0, 0, 0, 0, 0],\n",
       "        [0, 0, 0, 0, 0, 0, 0, 0, 0, 0],\n",
       "        [0, 0, 0, 0, 0, 0, 0, 0, 0, 0],\n",
       "        [0, 0, 0, 0, 0, 0, 0, 0, 0, 0],\n",
       "        [0, 0, 0, 0, 0, 0, 0, 0, 0, 0],\n",
       "        [0, 0, 0, 0, 0, 0, 0, 0, 0, 0],\n",
       "        [0, 0, 0, 0, 0, 0, 0, 0, 0, 0]], dtype=int8),\n",
       " array([[1, 1, 0, 1, 0, 0, 0, 0, 1, 1],\n",
       "        [0, 1, 1, 0, 0, 1, 1, 1, 1, 0],\n",
       "        [0, 0, 0, 0, 0, 0, 0, 0, 0, 0],\n",
       "        [0, 0, 0, 0, 0, 0, 0, 0, 0, 0],\n",
       "        [0, 0, 0, 0, 0, 0, 0, 0, 0, 0],\n",
       "        [0, 0, 0, 0, 0, 0, 0, 0, 0, 0],\n",
       "        [0, 0, 0, 0, 0, 0, 0, 0, 0, 0],\n",
       "        [0, 0, 0, 0, 0, 0, 0, 0, 0, 0],\n",
       "        [0, 0, 0, 0, 0, 0, 0, 0, 0, 0],\n",
       "        [0, 0, 0, 0, 0, 0, 0, 0, 0, 0]], dtype=int8),\n",
       " array([[1, 0, 0, 1, 0, 0, 0, 0, 0, 1],\n",
       "        [0, 1, 1, 0, 0, 1, 1, 0, 0, 0],\n",
       "        [0, 0, 0, 0, 0, 0, 0, 0, 0, 0],\n",
       "        [0, 0, 0, 0, 0, 0, 0, 0, 0, 0],\n",
       "        [0, 0, 0, 0, 0, 0, 0, 0, 0, 0],\n",
       "        [0, 0, 0, 0, 0, 0, 0, 0, 0, 0],\n",
       "        [0, 0, 0, 0, 0, 0, 0, 0, 0, 0],\n",
       "        [0, 0, 0, 0, 0, 0, 0, 0, 0, 0],\n",
       "        [0, 0, 0, 0, 0, 0, 0, 0, 0, 0],\n",
       "        [0, 0, 0, 0, 0, 0, 0, 0, 0, 0]], dtype=int8),\n",
       " array([[1, 1, 0, 1, 0, 0, 0, 0, 1, 1],\n",
       "        [0, 1, 1, 1, 1, 1, 1, 0, 0, 0],\n",
       "        [0, 0, 0, 0, 0, 0, 0, 0, 0, 0],\n",
       "        [0, 0, 0, 0, 0, 0, 0, 0, 0, 0],\n",
       "        [0, 0, 0, 0, 0, 0, 0, 0, 0, 0],\n",
       "        [0, 0, 0, 0, 0, 0, 0, 0, 0, 0],\n",
       "        [0, 0, 0, 0, 0, 0, 0, 0, 0, 0],\n",
       "        [0, 0, 0, 0, 0, 0, 0, 0, 0, 0],\n",
       "        [0, 0, 0, 0, 0, 0, 0, 0, 0, 0],\n",
       "        [0, 0, 0, 0, 0, 0, 0, 0, 0, 0]], dtype=int8),\n",
       " array([[1, 1, 0, 1, 0, 0, 0, 0, 1, 1],\n",
       "        [0, 1, 1, 0, 0, 1, 1, 0, 1, 0],\n",
       "        [0, 0, 0, 0, 0, 0, 0, 0, 0, 0],\n",
       "        [0, 0, 0, 0, 0, 0, 0, 0, 0, 0],\n",
       "        [0, 0, 0, 0, 0, 0, 0, 0, 0, 0],\n",
       "        [0, 0, 0, 0, 0, 0, 0, 0, 0, 0],\n",
       "        [0, 0, 0, 0, 0, 0, 0, 0, 0, 0],\n",
       "        [0, 0, 0, 0, 0, 0, 0, 0, 0, 0],\n",
       "        [0, 0, 0, 0, 0, 0, 0, 0, 0, 0],\n",
       "        [0, 0, 0, 0, 0, 0, 0, 0, 0, 0]], dtype=int8),\n",
       " array([[1, 1, 0, 1, 0, 0, 0, 0, 1, 1],\n",
       "        [0, 1, 1, 0, 0, 1, 1, 0, 0, 0],\n",
       "        [0, 0, 0, 0, 0, 0, 0, 0, 0, 0],\n",
       "        [0, 0, 0, 0, 0, 0, 0, 0, 0, 0],\n",
       "        [0, 0, 0, 0, 0, 0, 0, 0, 0, 0],\n",
       "        [0, 0, 0, 0, 0, 0, 0, 0, 0, 0],\n",
       "        [0, 0, 0, 0, 0, 0, 0, 0, 0, 0],\n",
       "        [0, 0, 0, 0, 0, 0, 0, 0, 0, 0],\n",
       "        [0, 0, 0, 0, 0, 0, 0, 0, 0, 0],\n",
       "        [0, 0, 0, 0, 0, 0, 0, 0, 0, 0]], dtype=int8),\n",
       " array([[1, 1, 0, 1, 0, 0, 0, 0, 1, 1],\n",
       "        [0, 1, 1, 0, 0, 1, 1, 1, 0, 0],\n",
       "        [0, 0, 0, 0, 0, 0, 0, 0, 0, 0],\n",
       "        [0, 0, 0, 0, 0, 0, 0, 0, 0, 0],\n",
       "        [0, 0, 0, 0, 0, 0, 0, 0, 0, 0],\n",
       "        [0, 0, 0, 0, 0, 0, 0, 0, 0, 0],\n",
       "        [0, 0, 0, 0, 0, 0, 0, 0, 0, 0],\n",
       "        [0, 0, 0, 0, 0, 0, 0, 0, 0, 0],\n",
       "        [0, 0, 0, 0, 0, 0, 0, 0, 0, 0],\n",
       "        [0, 0, 0, 0, 0, 0, 0, 0, 0, 0]], dtype=int8),\n",
       " array([[1, 1, 0, 1, 0, 0, 0, 0, 1, 1],\n",
       "        [0, 1, 1, 1, 1, 1, 1, 0, 0, 0],\n",
       "        [0, 0, 0, 0, 0, 0, 0, 0, 0, 0],\n",
       "        [0, 0, 0, 0, 0, 0, 0, 0, 0, 0],\n",
       "        [0, 0, 0, 0, 0, 0, 0, 0, 0, 0],\n",
       "        [0, 0, 0, 0, 0, 0, 0, 0, 0, 0],\n",
       "        [0, 0, 0, 0, 0, 0, 0, 0, 0, 0],\n",
       "        [0, 0, 0, 0, 0, 0, 0, 0, 0, 0],\n",
       "        [0, 0, 0, 0, 0, 0, 0, 0, 0, 0],\n",
       "        [0, 0, 0, 0, 0, 0, 0, 0, 0, 0]], dtype=int8),\n",
       " array([[1, 1, 0, 1, 0, 0, 0, 0, 1, 1],\n",
       "        [0, 1, 1, 1, 0, 1, 1, 0, 0, 0],\n",
       "        [0, 0, 0, 0, 0, 0, 0, 0, 0, 0],\n",
       "        [0, 0, 0, 0, 0, 0, 0, 0, 0, 0],\n",
       "        [0, 0, 0, 0, 0, 0, 0, 0, 0, 0],\n",
       "        [0, 0, 0, 0, 0, 0, 0, 0, 0, 0],\n",
       "        [0, 0, 0, 0, 0, 0, 0, 0, 0, 0],\n",
       "        [0, 0, 0, 0, 0, 0, 0, 0, 0, 0],\n",
       "        [0, 0, 0, 0, 0, 0, 0, 0, 0, 0],\n",
       "        [0, 0, 0, 0, 0, 0, 0, 0, 0, 0]], dtype=int8),\n",
       " array([[1, 0, 0, 1, 0, 0, 0, 0, 1, 1],\n",
       "        [0, 1, 1, 0, 0, 1, 1, 0, 0, 0],\n",
       "        [0, 0, 0, 0, 0, 0, 0, 0, 0, 0],\n",
       "        [0, 0, 0, 0, 0, 0, 0, 0, 0, 0],\n",
       "        [0, 0, 0, 0, 0, 0, 0, 0, 0, 0],\n",
       "        [0, 0, 0, 0, 0, 0, 0, 0, 0, 0],\n",
       "        [0, 0, 0, 0, 0, 0, 0, 0, 0, 0],\n",
       "        [0, 0, 0, 0, 0, 0, 0, 0, 0, 0],\n",
       "        [0, 0, 0, 0, 0, 0, 0, 0, 0, 0],\n",
       "        [0, 0, 0, 0, 0, 0, 0, 0, 0, 0]], dtype=int8),\n",
       " array([[1, 1, 0, 1, 0, 0, 0, 0, 1, 1],\n",
       "        [0, 1, 1, 0, 0, 1, 1, 0, 0, 0],\n",
       "        [0, 0, 0, 0, 0, 0, 0, 0, 0, 0],\n",
       "        [0, 0, 0, 0, 0, 0, 0, 0, 0, 0],\n",
       "        [0, 0, 0, 0, 0, 0, 0, 0, 0, 0],\n",
       "        [0, 0, 0, 0, 0, 0, 0, 0, 0, 0],\n",
       "        [0, 0, 0, 0, 0, 0, 0, 0, 0, 0],\n",
       "        [0, 0, 0, 0, 0, 0, 0, 0, 0, 0],\n",
       "        [0, 0, 0, 0, 0, 0, 0, 0, 0, 0],\n",
       "        [0, 0, 0, 0, 0, 0, 0, 0, 0, 0]], dtype=int8)]"
      ]
     },
     "execution_count": 25,
     "metadata": {},
     "output_type": "execute_result"
    }
   ],
   "source": [
    "optimal_measurements"
   ]
  },
  {
   "cell_type": "code",
   "execution_count": 34,
   "metadata": {},
   "outputs": [],
   "source": [
    "the_star = optimal_measurements[4]"
   ]
  },
  {
   "cell_type": "code",
   "execution_count": 35,
   "metadata": {},
   "outputs": [
    {
     "data": {
      "text/plain": [
       "0.2"
      ]
     },
     "execution_count": 35,
     "metadata": {},
     "output_type": "execute_result"
    }
   ],
   "source": [
    "#this code cannot check. it could be 0 if the disentangler is universal\n",
    "circ=create_circuit(N_QUBITS,DEPTH,the_star)\n",
    "stateinitial =pc.stabilizer.zero_state(N_QUBITS)  #Initial stabilizer state\n",
    "statefinal=circ.forward(stateinitial) #Final stabilizer state after the circuit applied\n",
    "a= averaged_EE(statefinal)\n",
    "a"
   ]
  },
  {
   "cell_type": "code",
   "execution_count": null,
   "metadata": {},
   "outputs": [],
   "source": []
  },
  {
   "cell_type": "code",
   "execution_count": 28,
   "metadata": {},
   "outputs": [],
   "source": [
    "DEPTH=6\n",
    "penalty_weights = [(DEPTH-i)/DEPTH for i in range(DEPTH)]\n",
    "m1 = [0,0,0,0,0,1]\n",
    "m2 = [0,0,0,0,0,2]"
   ]
  },
  {
   "cell_type": "code",
   "execution_count": 29,
   "metadata": {},
   "outputs": [
    {
     "data": {
      "text/plain": [
       "0.16666666666666666"
      ]
     },
     "execution_count": 29,
     "metadata": {},
     "output_type": "execute_result"
    }
   ],
   "source": [
    "np.dot(penalty_weights,m1)"
   ]
  },
  {
   "cell_type": "code",
   "execution_count": 30,
   "metadata": {},
   "outputs": [
    {
     "data": {
      "text/plain": [
       "0.3333333333333333"
      ]
     },
     "execution_count": 30,
     "metadata": {},
     "output_type": "execute_result"
    }
   ],
   "source": [
    "np.dot(penalty_weights,m2)"
   ]
  },
  {
   "cell_type": "code",
   "execution_count": 31,
   "metadata": {},
   "outputs": [
    {
     "data": {
      "text/plain": [
       "-1.0"
      ]
     },
     "execution_count": 31,
     "metadata": {},
     "output_type": "execute_result"
    }
   ],
   "source": [
    "1-np.dot(penalty_weights,m2)/np.dot(penalty_weights,m1)"
   ]
  },
  {
   "cell_type": "code",
   "execution_count": 32,
   "metadata": {},
   "outputs": [
    {
     "data": {
      "text/plain": [
       "-0.16666666666666666"
      ]
     },
     "execution_count": 32,
     "metadata": {},
     "output_type": "execute_result"
    }
   ],
   "source": [
    "np.dot(penalty_weights,m1)-np.dot(penalty_weights,m2)"
   ]
  },
  {
   "cell_type": "code",
   "execution_count": 33,
   "metadata": {},
   "outputs": [
    {
     "data": {
      "text/plain": [
       "2.0"
      ]
     },
     "execution_count": 33,
     "metadata": {},
     "output_type": "execute_result"
    }
   ],
   "source": [
    "6/3"
   ]
  },
  {
   "cell_type": "code",
   "execution_count": null,
   "metadata": {},
   "outputs": [],
   "source": []
  },
  {
   "cell_type": "code",
   "execution_count": null,
   "metadata": {},
   "outputs": [],
   "source": []
  }
 ],
 "metadata": {
  "kernelspec": {
   "display_name": "Python 3 (ipykernel)",
   "language": "python",
   "name": "python3"
  },
  "language_info": {
   "codemirror_mode": {
    "name": "ipython",
    "version": 3
   },
   "file_extension": ".py",
   "mimetype": "text/x-python",
   "name": "python",
   "nbconvert_exporter": "python",
   "pygments_lexer": "ipython3",
   "version": "3.11.5"
  }
 },
 "nbformat": 4,
 "nbformat_minor": 2
}
