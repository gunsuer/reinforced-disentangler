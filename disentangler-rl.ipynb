{
 "cells": [
  {
   "cell_type": "code",
   "execution_count": 1,
   "metadata": {},
   "outputs": [],
   "source": [
    "import torch\n",
    "import numpy\n",
    "import pennylane as qml\n",
    "import pennylane.numpy as np\n",
    "import gymnasium as gym\n",
    "import matplotlib.pyplot as plt"
   ]
  },
  {
   "cell_type": "code",
   "execution_count": 2,
   "metadata": {},
   "outputs": [],
   "source": [
    "def Cliff2():\n",
    "    \"\"\"\n",
    "    Random 2-qubit Clifford circuit.\n",
    "\n",
    "    Arguments:\n",
    "        -nodes (np.ndarray): \n",
    "    \n",
    "    Returns:\n",
    "        -null\n",
    "    \"\"\"\n",
    "    \n",
    "    weights = np.random.randint(2, size=(2, 10))\n",
    "    \n",
    "    return qml.matrix(qml.RandomLayers(weights=weights,wires=[0,1])).numpy()"
   ]
  },
  {
   "cell_type": "code",
   "execution_count": 3,
   "metadata": {},
   "outputs": [],
   "source": [
    "def RandomLayers(N_QUBITS, DEPTH):\n",
    "    \"\"\"\n",
    "    Generates brick wall pattern of random 2 qubit Clifford gates\n",
    "\n",
    "    Arguments:\n",
    "        -N_QUBITS (int): Number of qubits\n",
    "        -DEPTH (int): Depth of the circuit\n",
    "\n",
    "    Returns:\n",
    "        -random_layers (np.ndarray): Array of 4x4 unitaries (N_QUBITS, DEPTH, 4, 4)\n",
    "    \n",
    "    \"\"\"\n",
    "\n",
    "    random_layers = []\n",
    "    for t in range(DEPTH):\n",
    "        layer = []\n",
    "        for x in range(0,N_QUBITS,2):\n",
    "                layer.append(Cliff2())\n",
    "        random_layers.append(layer)\n",
    "\n",
    "    return random_layers\n"
   ]
  },
  {
   "cell_type": "code",
   "execution_count": 4,
   "metadata": {},
   "outputs": [],
   "source": [
    "N_QUBITS = 2*2\n",
    "DEPTH = 3\n",
    "\n",
    "# random_layers = []\n",
    "# # for t in range(DEPTH):\n",
    "# #         layer = []\n",
    "# #         for x in range(0,N_QUBITS,2):\n",
    "# #                 layer.append(Cliff2())\n",
    "# #         random_layers.append(layer)\n",
    "\n",
    "random_layers = RandomLayers(N_QUBITS,DEPTH)\n",
    "\n",
    "\n",
    "dev = qml.device(\"default.qubit\", wires=N_QUBITS)\n",
    "\n",
    "@qml.qnode(dev)\n",
    "def circuit(theta):\n",
    "    \"\"\"\n",
    "    Quantum circuit with random entangling Clifford layers and disentangling layers.\n",
    "    \n",
    "    Arguments:\n",
    "        -theta (np.ndarray): Binary matrix representing the positions of projections. (N_QUBITS, DEPTH)\n",
    "    \n",
    "    Returns:\n",
    "        -Average Von Neumann entropy (float32): Average of 2-qubit Von Neumann entropies over all neighbors.\n",
    "    \"\"\"\n",
    "\n",
    "    theta = theta.T\n",
    "    DEPTH,N_QUBITS = np.shape(theta)\n",
    "\n",
    "    for t in range(DEPTH):\n",
    "        layer = random_layers[t]\n",
    "        if t%2==0:\n",
    "            for x in range(0,N_QUBITS,2):\n",
    "                brick = layer[int(x/2)]\n",
    "                qml.QubitUnitary(brick,wires=[x,x+1])\n",
    "        elif t%2==1:\n",
    "            for x in range(1,N_QUBITS-2,2):\n",
    "                brick = layer[int((x-1)/2)]\n",
    "                qml.QubitUnitary(brick,wires=[x,x+1])\n",
    "            brick = layer[-1]\n",
    "            qml.QubitUnitary(brick,wires=[N_QUBITS-1,0])\n",
    "            \n",
    "        projections = theta[t]\n",
    "        for x in range(N_QUBITS):\n",
    "            if projections[x]==1:\n",
    "                qml.Projector(state=[0],wires=[x])\n",
    "            \n",
    "    entropies = []\n",
    "    for x in range(N_QUBITS-1):\n",
    "        entropies.append(qml.vn_entropy(wires=[x,x+1]))\n",
    "    entropies.append(qml.vn_entropy(wires=[N_QUBITS-1,0]))\n",
    "        \n",
    "    return entropies"
   ]
  },
  {
   "cell_type": "code",
   "execution_count": 5,
   "metadata": {},
   "outputs": [
    {
     "data": {
      "text/plain": [
       "array([[-0.2248451 -0.07056j   ,  0.        -0.42073549j,\n",
       "        -0.03812373+0.76744761j,  0.41652498+0.0593742j ],\n",
       "       [-0.17508774+0.3825737j ,  0.17508774-0.3825737j ,\n",
       "         0.35403671-0.22732436j, -0.06211013+0.68197307j],\n",
       "       [ 0.07056   -0.7651474j , -0.42073549+0.j        ,\n",
       "         0.23255239-0.03812373j, -0.0593742 +0.41652498j],\n",
       "       [ 0.3825737 +0.17508774j,  0.15772861+0.66638324j,\n",
       "         0.22732436+0.35403671j,  0.22732436+0.35403671j]])"
      ]
     },
     "execution_count": 5,
     "metadata": {},
     "output_type": "execute_result"
    }
   ],
   "source": [
    "random_layers[0][1]"
   ]
  },
  {
   "cell_type": "code",
   "execution_count": 6,
   "metadata": {},
   "outputs": [
    {
     "name": "stdout",
     "output_type": "stream",
     "text": [
      "[1.1102230246251564e-16, 1.1102230246251564e-16, 1.1102230246251564e-16, 1.1102230246251564e-16]\n",
      "0: ─╭U(M0)──|0⟩⟨0|────────╭U(M3)──|0⟩⟨0|─╭U(M4)──|0⟩⟨0|─┤ ╭vnentropy                      \n",
      "1: ─╰U(M0)──|0⟩⟨0|─╭U(M2)─│──────────────╰U(M4)──|0⟩⟨0|─┤ ╰vnentropy ╭vnentropy           \n",
      "2: ─╭U(M1)─────────╰U(M2)─│───────|0⟩⟨0|─╭U(M5)──|0⟩⟨0|─┤            ╰vnentropy ╭vnentropy\n",
      "3: ─╰U(M1)──|0⟩⟨0|────────╰U(M3)─────────╰U(M5)──|0⟩⟨0|─┤                       ╰vnentropy\n",
      "\n",
      "  ╭vnentropy\n",
      "  │         \n",
      "  │         \n",
      "  ╰vnentropy\n",
      "\n",
      "M0 = \n",
      "[[ 0.13289575+0.48042655j  0.03661081-0.17596205j -0.13914256+0.4364598j\n",
      "   0.71300901-0.03140716j]\n",
      " [ 0.17596205+0.03661081j  0.43341148+0.09307212j  0.03140716+0.71300901j\n",
      "  -0.47917584+0.17947517j]\n",
      " [-0.72348262-0.24839441j -0.36460155-0.03413046j  0.13289575+0.48042655j\n",
      "   0.03661081-0.17596205j]\n",
      " [ 0.03413046-0.36460155j  0.21982151+0.76731245j  0.17596205+0.03661081j\n",
      "   0.43341148+0.09307212j]]\n",
      "M1 = \n",
      "[[-0.2248451 -0.07056j     0.        -0.42073549j -0.03812373+0.76744761j\n",
      "   0.41652498+0.0593742j ]\n",
      " [-0.17508774+0.3825737j   0.17508774-0.3825737j   0.35403671-0.22732436j\n",
      "  -0.06211013+0.68197307j]\n",
      " [ 0.07056   -0.7651474j  -0.42073549+0.j          0.23255239-0.03812373j\n",
      "  -0.0593742 +0.41652498j]\n",
      " [ 0.3825737 +0.17508774j  0.15772861+0.66638324j  0.22732436+0.35403671j\n",
      "   0.22732436+0.35403671j]]\n",
      "M2 = \n",
      "[[-0.00913989+0.12888545j -0.44658935+0.15944981j -0.84558113-0.19608343j\n",
      "   0.03384134+0.06194615j]\n",
      " [ 0.07041044+0.00499315j -0.29187092-0.81747631j -0.10712087+0.46194308j\n",
      "  -0.11339167+0.06194615j]\n",
      " [ 0.29187092-0.81747631j -0.07041044+0.00499315j -0.11339167-0.06194615j\n",
      "  -0.10712087-0.46194308j]\n",
      " [-0.44658935-0.15944981j -0.00913989-0.12888545j -0.03384134+0.06194615j\n",
      "   0.84558113-0.19608343j]]\n",
      "M3 = \n",
      "[[-0.19732013-0.43115236j  0.        +0.j         -0.12863251+0.87099144j\n",
      "   0.        +0.j        ]\n",
      " [ 0.        +0.j          0.0044309 -0.88042761j  0.        +0.j\n",
      "   0.25618968+0.39899178j]\n",
      " [-0.0044309 -0.88042761j  0.        +0.j          0.25618968-0.39899178j\n",
      "   0.        +0.j        ]\n",
      " [ 0.        +0.j         -0.19732013+0.43115236j  0.        +0.j\n",
      "   0.12863251+0.87099144j]]\n",
      "M4 = \n",
      "[[-0.20273578-0.18870211j  0.13186114+0.12741647j  0.1742253 +0.90680387j\n",
      "   0.10967658+0.1580846j ]\n",
      " [ 0.13430998-0.13562709j  0.38098776+0.00290304j  0.17932752-0.04527444j\n",
      "  -0.8241276 +0.32405491j]\n",
      " [-0.51551406-0.21239686j -0.18581243+0.73774926j  0.04924874-0.27255246j\n",
      "  -0.03597238+0.17980074j]\n",
      " [ 0.71650634+0.25021457j -0.0843895 +0.48507294j  0.18669425+0.03973833j\n",
      "   0.20340574+0.32215867j]]\n",
      "M5 = \n",
      "[[ 0.2428462 +0.10899462j  0.34573025-0.40679069j -0.13041863+0.78487872j\n",
      "   0.10492801-0.00918192j]\n",
      " [ 0.1843108 -0.01838822j  0.24923559-0.0572309j   0.17424209-0.0772859j\n",
      "  -0.5932609 +0.71554576j]\n",
      " [-0.1698528 -0.53653833j -0.40041139+0.40876056j -0.22479885+0.49576187j\n",
      "  -0.11445786+0.21551616j]\n",
      " [ 0.7483362 -0.13456181j  0.18306196+0.53728206j  0.1843108 -0.01838822j\n",
      "   0.24923559-0.0572309j ]]\n"
     ]
    }
   ],
   "source": [
    "theta = np.random.randint(2, size=(N_QUBITS,DEPTH))\n",
    "print(circuit(theta))\n",
    "drawer = qml.draw(circuit)\n",
    "\n",
    "print(drawer(theta))"
   ]
  },
  {
   "cell_type": "code",
   "execution_count": 7,
   "metadata": {},
   "outputs": [],
   "source": [
    "def RandomFlip(theta,K):\n",
    "    \"\"\"\n",
    "    Randomly flip K entries of a binary matrix theta.\n",
    "\n",
    "    Arguments:\n",
    "        -theta (np.ndarray):\n",
    "        -K (int): \n",
    "\n",
    "    Returns:\n",
    "        -flipped (np.ndarray):\n",
    "\n",
    "    \"\"\"\n",
    "    \n",
    "    x,y = np.shape(theta)\n",
    "    N = int(x*y)\n",
    "    arr = np.array([0] * (N-K) + [1] * K)\n",
    "    np.random.shuffle(arr)\n",
    "    arr = arr.reshape(np.shape(theta))\n",
    "\n",
    "    flipped = (theta + arr) % 2\n",
    "    \n",
    "    return flipped"
   ]
  },
  {
   "cell_type": "code",
   "execution_count": 8,
   "metadata": {},
   "outputs": [],
   "source": [
    "class Disentangler(gym.Env):\n",
    "    \"\"\"\n",
    "    Reinforcement learning environment for the disentangler.\n",
    "\n",
    "    \"\"\"\n",
    "    \n",
    "    def __init__(self):\n",
    "        self.action_space = gym.spaces.Discrete(10)\n",
    "        self.observation_space = []\n",
    "        self.state = np.zeros((N_QUBITS,DEPTH))\n",
    "        self.moves = 10\n",
    "\n",
    "    def step(self, action):\n",
    "        self.state = RandomFlip(self.state, action)\n",
    "        self.moves += -1\n",
    "\n",
    "        entropies = circuit(self.state)\n",
    "        entropy = sum(entropies)/len(entropies)\n",
    "        \n",
    "        if entropy < 1e-16:\n",
    "            reward = 100\n",
    "        elif entropy > 1e-16:\n",
    "            reward = -1\n",
    "\n",
    "        if self.moves <= 0:\n",
    "            done = True\n",
    "        else:\n",
    "            done = False\n",
    "\n",
    "        info = {}\n",
    "        \n",
    "        return self.state, reward, done, info\n",
    "    \n",
    "    def reset(self):\n",
    "        self.state = np.zeros((N_QUBITS,DEPTH))\n",
    "        self.moves = 10\n",
    "\n",
    "        return self.state"
   ]
  },
  {
   "cell_type": "code",
   "execution_count": 9,
   "metadata": {},
   "outputs": [],
   "source": [
    "env = Disentangler()"
   ]
  },
  {
   "cell_type": "code",
   "execution_count": 23,
   "metadata": {},
   "outputs": [
    {
     "name": "stdout",
     "output_type": "stream",
     "text": [
      "Episode:1 Score:-10\n"
     ]
    },
    {
     "ename": "ValueError",
     "evalue": "The truth value of an array with more than one element is ambiguous. Use a.any() or a.all()",
     "output_type": "error",
     "traceback": [
      "\u001b[1;31m---------------------------------------------------------------------------\u001b[0m",
      "\u001b[1;31mValueError\u001b[0m                                Traceback (most recent call last)",
      "Cell \u001b[1;32mIn[23], line 15\u001b[0m\n\u001b[0;32m     13\u001b[0m index \u001b[38;5;241m=\u001b[39m \u001b[38;5;28mlen\u001b[39m(matrix_labels)\n\u001b[0;32m     14\u001b[0m label \u001b[38;5;241m=\u001b[39m \u001b[38;5;124m\"\u001b[39m\u001b[38;5;124mm_\u001b[39m\u001b[38;5;124m\"\u001b[39m\u001b[38;5;241m+\u001b[39m\u001b[38;5;28mstr\u001b[39m(index\u001b[38;5;241m+\u001b[39m\u001b[38;5;241m1\u001b[39m)\n\u001b[1;32m---> 15\u001b[0m \u001b[38;5;28;01mif\u001b[39;00m \u001b[38;5;129;01mnot\u001b[39;00m(\u001b[43mlabel\u001b[49m\u001b[43m \u001b[49m\u001b[38;5;129;43;01min\u001b[39;49;00m\u001b[43m \u001b[49m\u001b[43mmatrix_labels\u001b[49m\u001b[38;5;241;43m.\u001b[39;49m\u001b[43mvalues\u001b[49m\u001b[43m(\u001b[49m\u001b[43m)\u001b[49m):\n\u001b[0;32m     16\u001b[0m     matrix_labels[\u001b[38;5;124m\"\u001b[39m\u001b[38;5;124mm_\u001b[39m\u001b[38;5;124m\"\u001b[39m\u001b[38;5;241m+\u001b[39m\u001b[38;5;28mstr\u001b[39m(index\u001b[38;5;241m+\u001b[39m\u001b[38;5;241m1\u001b[39m)] \u001b[38;5;241m=\u001b[39m n_state\n\u001b[0;32m     18\u001b[0m \u001b[38;5;28mprint\u001b[39m(\u001b[38;5;124m'\u001b[39m\u001b[38;5;124mEpisode:\u001b[39m\u001b[38;5;132;01m{}\u001b[39;00m\u001b[38;5;124m Score:\u001b[39m\u001b[38;5;132;01m{}\u001b[39;00m\u001b[38;5;124m'\u001b[39m\u001b[38;5;241m.\u001b[39mformat(episode, score))\n",
      "\u001b[1;31mValueError\u001b[0m: The truth value of an array with more than one element is ambiguous. Use a.any() or a.all()"
     ]
    }
   ],
   "source": [
    "episodes = 50\n",
    "matrix_labels = {}\n",
    "for episode in range(1, episodes+1):\n",
    "    state = env.reset()\n",
    "    done = False\n",
    "    score = 0\n",
    "\n",
    "    while not done:\n",
    "        action = env.action_space.sample()\n",
    "        n_state, reward, done, info = env.step(action)\n",
    "        score += reward\n",
    "    \n",
    "    index = len(matrix_labels)\n",
    "    label = \"m_\"+str(index+1)\n",
    "    if not(label in matrix_labels.values()):\n",
    "        matrix_labels[\"m_\"+str(index+1)] = n_state\n",
    "    \n",
    "    print('Episode:{} Score:{}'.format(episode, score))\n"
   ]
  },
  {
   "cell_type": "code",
   "execution_count": 24,
   "metadata": {},
   "outputs": [],
   "source": [
    "d = {}\n",
    "d[\"m_1\"] = np.random.randint(2, size=(2,2))\n",
    "d[\"m_2\"] = np.random.randint(2, size=(2,2))\n",
    "d[\"m_3\"] = np.random.randint(2, size=(2,2))"
   ]
  },
  {
   "cell_type": "code",
   "execution_count": 41,
   "metadata": {},
   "outputs": [
    {
     "ename": "TypeError",
     "evalue": "unhashable type: 'numpy.tensor'",
     "output_type": "error",
     "traceback": [
      "\u001b[1;31m---------------------------------------------------------------------------\u001b[0m",
      "\u001b[1;31mTypeError\u001b[0m                                 Traceback (most recent call last)",
      "Cell \u001b[1;32mIn[41], line 2\u001b[0m\n\u001b[0;32m      1\u001b[0m matrix \u001b[38;5;241m=\u001b[39m np\u001b[38;5;241m.\u001b[39mtensor([[\u001b[38;5;241m0\u001b[39m, \u001b[38;5;241m0\u001b[39m],[\u001b[38;5;241m1\u001b[39m, \u001b[38;5;241m1\u001b[39m]])\n\u001b[1;32m----> 2\u001b[0m \u001b[43md\u001b[49m\u001b[38;5;241;43m.\u001b[39;49m\u001b[43mget\u001b[49m\u001b[43m(\u001b[49m\u001b[43mmatrix\u001b[49m\u001b[43m)\u001b[49m\n",
      "File \u001b[1;32mc:\\Users\\gunsu\\AppData\\Local\\Programs\\Python\\Python311\\Lib\\site-packages\\pennylane\\numpy\\tensor.py:201\u001b[0m, in \u001b[0;36mtensor.__hash__\u001b[1;34m(self)\u001b[0m\n\u001b[0;32m    195\u001b[0m \u001b[38;5;28;01mif\u001b[39;00m \u001b[38;5;28mself\u001b[39m\u001b[38;5;241m.\u001b[39mndim \u001b[38;5;241m==\u001b[39m \u001b[38;5;241m0\u001b[39m:\n\u001b[0;32m    196\u001b[0m     \u001b[38;5;66;03m# Allowing hashing if the tensor is a scalar.\u001b[39;00m\n\u001b[0;32m    197\u001b[0m     \u001b[38;5;66;03m# We hash both the scalar value *and* the differentiability information,\u001b[39;00m\n\u001b[0;32m    198\u001b[0m     \u001b[38;5;66;03m# to match the behaviour of PyTorch.\u001b[39;00m\n\u001b[0;32m    199\u001b[0m     \u001b[38;5;28;01mreturn\u001b[39;00m \u001b[38;5;28mhash\u001b[39m((\u001b[38;5;28mself\u001b[39m\u001b[38;5;241m.\u001b[39mitem(), \u001b[38;5;28mself\u001b[39m\u001b[38;5;241m.\u001b[39mrequires_grad))\n\u001b[1;32m--> 201\u001b[0m \u001b[38;5;28;01mraise\u001b[39;00m \u001b[38;5;167;01mTypeError\u001b[39;00m(\u001b[38;5;124m\"\u001b[39m\u001b[38;5;124munhashable type: \u001b[39m\u001b[38;5;124m'\u001b[39m\u001b[38;5;124mnumpy.tensor\u001b[39m\u001b[38;5;124m'\u001b[39m\u001b[38;5;124m\"\u001b[39m)\n",
      "\u001b[1;31mTypeError\u001b[0m: unhashable type: 'numpy.tensor'"
     ]
    }
   ],
   "source": [
    "matrix = np.tensor([[0, 0],[1, 1]])\n",
    "d.get(matrix)"
   ]
  },
  {
   "cell_type": "code",
   "execution_count": 22,
   "metadata": {},
   "outputs": [
    {
     "data": {
      "text/plain": [
       "pennylane.numpy.tensor.tensor"
      ]
     },
     "execution_count": 22,
     "metadata": {},
     "output_type": "execute_result"
    }
   ],
   "source": [
    "type(np.random.randint(2, size=(2,2)))"
   ]
  },
  {
   "cell_type": "code",
   "execution_count": 28,
   "metadata": {},
   "outputs": [],
   "source": [
    "anan = np.tensor([[0, 0],\n",
    "        [1, 1]], requires_grad=True)"
   ]
  },
  {
   "cell_type": "code",
   "execution_count": null,
   "metadata": {},
   "outputs": [],
   "source": []
  }
 ],
 "metadata": {
  "kernelspec": {
   "display_name": "Python 3",
   "language": "python",
   "name": "python3"
  },
  "language_info": {
   "codemirror_mode": {
    "name": "ipython",
    "version": 3
   },
   "file_extension": ".py",
   "mimetype": "text/x-python",
   "name": "python",
   "nbconvert_exporter": "python",
   "pygments_lexer": "ipython3",
   "version": "3.11.0"
  }
 },
 "nbformat": 4,
 "nbformat_minor": 2
}
